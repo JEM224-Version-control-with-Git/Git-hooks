{
 "cells": [
  {
   "cell_type": "markdown",
   "metadata": {},
   "source": [
    "## Installing the hooks\n",
    "For installation, one needs to copy the hooks files from the 'hooks/' folder to the '.git/hooks/' folder. This can be done by executing the 'install-hooks.sh' Bash script.\n",
    "\n",
    "Open Git Bash, and type in:\n",
    "\n",
    "```bash\n",
    "bash install-hooks.sh\n",
    "```\n",
    "\n",
    "To verify the installation has been successful, navigate to the '.git/hooks/' folder and check for our hook files, for example if the post-commit file is present.\n",
    "\n",
    "On some combinations of systems or environments, after the hooks are copied, it might be necessary to run the following command to convert the Windows-style line endings (CRLF) to Unix-style line endings (LF). Otherwise the script won't execute properly, or not at all. The hooks need to be copied to the hooks folder and used before the git commits and converts the line endings itself. The line endings of the scripts need to match the environment that we're commiting from. So, for example, if the hook script was edited on a Windows system, copied to the '.git/hooks/' folder, but not treated with line endings for Linux, and then a Windows Subsystem for Linux (WSL) terminal is used to commit the files, it will throw an error about the hooks. Because the WSL expects LF endings, while the scripts have CRLF endings.\n",
    "\n",
    "Run the following so the hooks can be executed on Unix-like systems:\n",
    "```bash\n",
    "# Run in a (WSL) Bash terminal\n",
    "dos2unix .git/hooks/post-commit\n",
    "dos2unix .git/hooks/pre-commit\n",
    "```\n",
    "\n",
    "Or, alternatively, the reverse scenario could happen, a Windows user needing to use a script that has LF endings and Git not converting them, yet.\n",
    "Run the following so the hooks can be executed on Windows-style systems:\n",
    "```bash\n",
    "# Run in a Git Bash terminal\n",
    "unix2dos .git/hooks/post-commit\n",
    "unix2dos .git/hooks/pre-commit\n",
    "```\n",
    "This could be automated in a pre-commit hook, for the other commits. But we're not sure yet, how to solve the automation for the pre-commit hook itself."
   ]
  },
  {
   "cell_type": "markdown",
   "metadata": {},
   "source": [
    "## Pre-commit hook\n",
    "\n",
    "The pre-commit hook is a hook that runs before a commit is made."
   ]
  },
  {
   "cell_type": "markdown",
   "metadata": {},
   "source": [
    "```bash\n",
    "#!/bin/bash\n",
    "# A Git pre-commit hook.\n",
    "\n",
    "\n",
    "#######################\n",
    "####### Messages ######\n",
    "#######################\n",
    "\n",
    "echo \"HOOK - PRE-COMMIT - START:\"\n",
    "echo \"Your commit is about to happen. Running the pre-commit hooks..\"\n",
    "\n",
    "\n",
    "# Display the end message\n",
    "echo \"HOOK - PRE-COMMIT - END\"\n",
    "```"
   ]
  }
 ],
 "metadata": {
  "kernelspec": {
   "display_name": ".venv",
   "language": "python",
   "name": "python3"
  },
  "language_info": {
   "codemirror_mode": {
    "name": "ipython",
    "version": 3
   },
   "file_extension": ".py",
   "mimetype": "text/x-python",
   "name": "python",
   "nbconvert_exporter": "python",
   "pygments_lexer": "ipython3",
   "version": "3.10.11"
  }
 },
 "nbformat": 4,
 "nbformat_minor": 2
}
