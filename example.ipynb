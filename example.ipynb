{
 "cells": [
  {
   "cell_type": "markdown",
   "id": "3384466a",
   "metadata": {},
   "source": [
    "# Git Hooks Examples with Runnable Code\n",
    "\n",
    "This notebook contains examples of different Git hooks that can be usefull to used to automate tasks in your Git workflow. Each example includes runnable code snippets.\n",
    "\n",
    "## Table of Contents\n",
    "\n",
    "1. [Pre-Commit Hook](#1-pre-commit-hook)\n",
    "2. [Commit-msg Hook](#2-commit-msg-hook)\n",
    "3. [Post-Commit Hook](#3-post-commit-hook)\n",
    "4. [Pre-Receive Hook](#4-pre-receive-hook)\n",
    "5. [Update Hook](#5-update-hook)\n",
    "6. [Post-Receive Hook](#6-post-receive-hook)"
   ]
  },
  {
   "cell_type": "markdown",
   "id": "c65ac940",
   "metadata": {},
   "source": [
    "## 2. Commit-msg Hook\n",
    "\n",
    "The `commit-msg` hook is triggered after the commit message is entered but before the commit is finalized. It can be used to enforce a specific commit message format.\n",
    "\n",
    "### Example description\n",
    "\n",
    "**Scenario:** A software development team wants to maintain a consistent format for commit messages, particularly for tracking issues related to project management tools like Jira. They want to ensure that all commit messages start with a specific ticket number format (e.g., `JIRA-123: Description of the change`).\n",
    "\n",
    "**Pre-Commit Hook Implementation:**\n",
    "\n",
    "- **Enforce Commit Message Format**: Check that the commit message starts with a JIRA ticket number.\n",
    "\n",
    "### How to Implement:\n",
    "1. Navigate to the hooks directory: `cd .git/hooks`\n",
    "2. Create a new file: `touch commit-msg`\n",
    "3. Make it executable: `chmod +x commit-msg`\n",
    "4. Add the below code to the `commit-msg` file.\n",
    "\n",
    "### Code:\n"
   ]
  },
  {
   "cell_type": "code",
   "execution_count": null,
   "id": "5e8fda64",
   "metadata": {
    "vscode": {
     "languageId": "bat"
    }
   },
   "outputs": [],
   "source": [
    "# This is only example commit-msg hook to enforce message format - addittional changes as testing function need to be made first on specific case\n",
    "#!/bin/sh\n",
    "\n",
    "# Get the commit message file path from the first argument\n",
    "commit_msg_file=\"$1\"\n",
    "\n",
    "# Check if the commit message file was provided\n",
    "if [ -z \"$commit_msg_file\" ]; then\n",
    "  echo \"Error: No commit message file provided.\"\n",
    "  echo \"Usage: commit-msg <commit-message-file>\"\n",
    "  exit 1\n",
    "fi\n",
    "\n",
    "# Check if the commit message starts with \"JIRA-123: \"\n",
    "if ! grep -qE \"^JIRA-[0-9]+: \" \"$commit_msg_file\"; then\n",
    "  echo \"Error: Commit message must start with a JIRA ticket number, e.g., 'JIRA-123: Fix bug.'\"\n",
    "  exit 1\n",
    "fi\n",
    "\n",
    "# If the format is correct, print a success message\n",
    "echo \"Commit message format is correct.\""
   ]
  },
  {
   "cell_type": "markdown",
   "id": "3babe558",
   "metadata": {},
   "source": [
    "## 4. Pre-Receive Hook\n",
    "\n",
    "The `pre-receive` hook is a server-side hook that runs before any references are updated. It can be used to enforce policies on incoming pushes.\n",
    "\n",
    "### Example description\n",
    "\n",
    "**Scenario:** A team wants to prevent direct pushes to the main branch of their repository to ensure that all changes are reviewed via pull requests. This helps maintain code quality and facilitates collaboration.\n",
    "\n",
    "**Pre-Receive Hook Implementation:**\n",
    "\n",
    "- **Block Pushes**: Disallow direct pushes to the main branch.\n",
    "\n",
    "### How to Implement:\n",
    "1. Navigate to the hooks directory on the server: `.git/hooks`\n",
    "2. Create a new file: `touch pre-receive`\n",
    "3. Make it executable: `chmod +x pre-receive`\n",
    "4. Add the below code to the `pre-receive` file.\n",
    "\n",
    "### Code:"
   ]
  },
  {
   "cell_type": "code",
   "execution_count": null,
   "id": "7889fe45",
   "metadata": {
    "vscode": {
     "languageId": "bat"
    }
   },
   "outputs": [],
   "source": [
    "# This is only example pre-receive hook to block pushes to the main branch - addittional changes as testing function need to be made first on specific case\n",
    "#!/bin/sh\n",
    "\n",
    "# Read incoming pushes\n",
    "while read oldrev newrev refname; do\n",
    "  # Check if the push is to the main branch\n",
    "  if [ \"$refname\" = \"refs/heads/main\" ]; then\n",
    "    echo \"Error: Direct pushes to the main branch are not allowed.\"\n",
    "    echo \"Please create a pull request instead.\"\n",
    "    exit 1\n",
    "  fi\n",
    "done\n",
    "\n",
    "# If no errors, allow the push to proceed\n",
    "echo \"Push accepted.\""
   ]
  },
  {
   "cell_type": "markdown",
   "id": "5a630051",
   "metadata": {},
   "source": [
    "## 5. Update Hook\n",
    "\n",
    "The `update` hook runs before a reference is updated. It is useful for enforcing specific policies on branch updates.\n",
    "\n",
    "### Example description\n",
    "\n",
    "**Scenario:** A development team wants to prevent force pushes to the main branch to protect the commit history. This ensures that all changes are properly reviewed and merged through pull requests.\n",
    "\n",
    "**Update Hook Implementation:**\n",
    "\n",
    "- **Reject Force Pushes**: Disallow force pushes to the `main` branch while allowing normal pushes.\n",
    "\n",
    "### How to Implement:\n",
    "1. Navigate to the hooks directory on the server: `.git/hooks`\n",
    "2. Create a new file: `touch update`\n",
    "3. Make it executable: `chmod +x update`\n",
    "4. Add the below code to the `update` file.\n",
    "\n",
    "### Code:"
   ]
  },
  {
   "cell_type": "code",
   "execution_count": null,
   "id": "4bd7bcd8",
   "metadata": {
    "vscode": {
     "languageId": "bat"
    }
   },
   "outputs": [],
   "source": [
    "# This is only example update hook to reject force pushes to the 'main' branch - addittional changes as testing function need to be made first on specific case\n",
    "#!/bin/sh\n",
    "\n",
    "# Read incoming pushes\n",
    "while read oldrev newrev refname; do\n",
    "  # Check if the push is to the main branch\n",
    "  if [ \"$refname\" = \"refs/heads/main\" ]; then\n",
    "    # Check if the old revision is not empty (not a new branch)\n",
    "    if [ \"$oldrev\" != \"0000000000000000000000000000000000000000\" ]; then\n",
    "      echo \"Error: Force pushes to 'main' branch are not allowed.\"\n",
    "      exit 1\n",
    "    fi\n",
    "  fi\n",
    "done\n",
    "\n",
    "# Allow the push to proceed if checks pass\n",
    "echo \"Push accepted.\"\n",
    "\n",
    "# Exit with a success status\n",
    "exit 0"
   ]
  },
  {
   "cell_type": "markdown",
   "id": "1871eb45",
   "metadata": {},
   "source": [
    "## 6. Post-Receive Hook\n",
    "\n",
    "The `post-receive` hook runs after a push has been received and processed. It's commonly used for deployment tasks.\n",
    "\n",
    "### Example description\n",
    "\n",
    "**Scenario:** A web application is hosted on a server, and the development team wants to automate the deployment process whenever new code is pushed to the repository. This ensures that the latest code is always live without requiring manual intervention.\n",
    "\n",
    "**Post-Receive Hook Implementation:**\n",
    "\n",
    "- **Automatic Deployment**: Automatically deploy the latest code to the production environment.\n",
    "\n",
    "### How to Implement:\n",
    "1. Navigate to the hooks directory on the server: `.git/hooks`\n",
    "2. Create a new file: `touch post-receive`\n",
    "3. Make it executable: `chmod +x post-receive`\n",
    "4. Add the below code to the `post-receive` file.\n",
    "\n",
    "### Code:"
   ]
  },
  {
   "cell_type": "code",
   "execution_count": null,
   "id": "e6937bab",
   "metadata": {
    "vscode": {
     "languageId": "bat"
    }
   },
   "outputs": [],
   "source": [
    "# This is only example post-receive hook to deploy to production - addittional changes as testing function need to be made first on specific case\n",
    "#!/bin/sh\n",
    "\n",
    "# Deploy the latest code to the specified working tree\n",
    "if git --work-tree=\"$WORK_TREE\" --git-dir=\"$GIT_DIR\" checkout -f; then\n",
    "  echo \"Deployment successful: Latest code has been deployed to $WORK_TREE.\"\n",
    "else\n",
    "  echo \"Error: Deployment failed.\"\n",
    "  exit 1\n",
    "fi"
   ]
  }
 ],
 "metadata": {
  "language_info": {
   "name": "python"
  }
 },
 "nbformat": 4,
 "nbformat_minor": 5
}
